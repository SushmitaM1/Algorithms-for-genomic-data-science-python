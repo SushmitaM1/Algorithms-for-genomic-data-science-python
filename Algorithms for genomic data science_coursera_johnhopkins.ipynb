{
 "cells": [
  {
   "cell_type": "code",
   "execution_count": 2,
   "metadata": {},
   "outputs": [],
   "source": [
    "def readGenome(filename):\n",
    "    genome = ''\n",
    "    with open(filename, 'r') as f:\n",
    "        for line in f:\n",
    "            # ignore header line with genome information\n",
    "            if not line[0] == '>':\n",
    "                genome += line.rstrip()\n",
    "    return genome"
   ]
  },
  {
   "cell_type": "code",
   "execution_count": 9,
   "metadata": {},
   "outputs": [],
   "source": [
    "lambda_virus = readGenome('C:/Users/myPC/Desktop/lambda_virus.fa')"
   ]
  },
  {
   "cell_type": "code",
   "execution_count": null,
   "metadata": {},
   "outputs": [],
   "source": [
    "def naive(p, t):\n",
    "    occurrences = []\n",
    "    for i in range(len(t) - len(p) + 1):  # loop over alignments\n",
    "        match = True\n",
    "        for j in range(len(p)):  # loop over characters\n",
    "            if t[i+j] != p[j]:  # compare characters\n",
    "                match = False\n",
    "                break\n",
    "        if match:\n",
    "            occurrences.append(i)  # all chars matched; record\n",
    "    return occurrences"
   ]
  },
  {
   "cell_type": "code",
   "execution_count": 10,
   "metadata": {},
   "outputs": [],
   "source": [
    "def reverseComplement(s):\n",
    "    complement = {'A': 'T', 'C': 'G', 'G': 'C', 'T': 'A', 'N': 'N'}\n",
    "    t = ''\n",
    "    for base in s:\n",
    "        t = complement[base] + t\n",
    "    return t"
   ]
  },
  {
   "cell_type": "code",
   "execution_count": 52,
   "metadata": {},
   "outputs": [],
   "source": [
    "def naive(p, t):\n",
    "    occurrences = []\n",
    "    for i in range(len(t) - len(p) + 1):  # loop over alignments\n",
    "        match = True\n",
    "        for j in range(len(p)):  # loop over characters\n",
    "            if t[i+j] != p[j]:  # compare characters\n",
    "                match = False\n",
    "                break\n",
    "        if match:\n",
    "            occurrences.append(i)  # all chars matched; record\n",
    "    return occurrences"
   ]
  },
  {
   "cell_type": "code",
   "execution_count": 54,
   "metadata": {},
   "outputs": [
    {
     "data": {
      "text/plain": [
       "[4, 14]"
      ]
     },
     "execution_count": 54,
     "metadata": {},
     "output_type": "execute_result"
    }
   ],
   "source": [
    "naive('AC', \"ATAAACGTTCTTAAACGTTGG\")"
   ]
  },
  {
   "cell_type": "code",
   "execution_count": 78,
   "metadata": {},
   "outputs": [],
   "source": [
    "def naive_with_rc(p,t):\n",
    "    \n",
    "    occurences = naive(p,t)\n",
    "    if p != reverseComplement(p):\n",
    "        occurences.extend(naive(reverseComplement(p),t))\n",
    "    \n",
    "    return occurences   "
   ]
  },
  {
   "cell_type": "code",
   "execution_count": 91,
   "metadata": {},
   "outputs": [
    {
     "data": {
      "text/plain": [
       "[5, 12, 18, 7, 20]"
      ]
     },
     "execution_count": 91,
     "metadata": {},
     "output_type": "execute_result"
    }
   ],
   "source": [
    "naive_with_rc('AC', \"ATAAAACGTTAGACTTAAACGTTTTCTTGG\")"
   ]
  },
  {
   "cell_type": "code",
   "execution_count": 93,
   "metadata": {},
   "outputs": [
    {
     "data": {
      "text/plain": [
       "20"
      ]
     },
     "execution_count": 93,
     "metadata": {},
     "output_type": "execute_result"
    }
   ],
   "source": [
    "max(naive_with_rc('AC', \"ATAAAACGTTAGACTTAAACGTTTTCTTGG\"))"
   ]
  },
  {
   "cell_type": "code",
   "execution_count": 80,
   "metadata": {},
   "outputs": [
    {
     "data": {
      "text/plain": [
       "306"
      ]
     },
     "execution_count": 80,
     "metadata": {},
     "output_type": "execute_result"
    }
   ],
   "source": [
    "len(naive_with_rc('AGGT', lambda_virus))"
   ]
  },
  {
   "cell_type": "code",
   "execution_count": 81,
   "metadata": {},
   "outputs": [
    {
     "name": "stdout",
     "output_type": "stream",
     "text": [
      "[122, 302, 383, 555, 729, 921, 2403, 2688, 3163, 3254]\n"
     ]
    }
   ],
   "source": [
    "list_l = naive_with_rc('AGGT', lambda_virus)\n",
    "print (list_l[:10])"
   ]
  },
  {
   "cell_type": "code",
   "execution_count": 85,
   "metadata": {},
   "outputs": [
    {
     "data": {
      "text/plain": [
       "'AGGT'"
      ]
     },
     "execution_count": 85,
     "metadata": {},
     "output_type": "execute_result"
    }
   ],
   "source": [
    "lambda_virus[555:559]"
   ]
  },
  {
   "cell_type": "code",
   "execution_count": 87,
   "metadata": {},
   "outputs": [
    {
     "data": {
      "text/plain": [
       "195"
      ]
     },
     "execution_count": 87,
     "metadata": {},
     "output_type": "execute_result"
    }
   ],
   "source": [
    "len(naive_with_rc('TTAA', lambda_virus))"
   ]
  },
  {
   "cell_type": "code",
   "execution_count": 88,
   "metadata": {},
   "outputs": [
    {
     "data": {
      "text/plain": [
       "195"
      ]
     },
     "execution_count": 88,
     "metadata": {},
     "output_type": "execute_result"
    }
   ],
   "source": [
    "len(naive('TTAA', lambda_virus))"
   ]
  },
  {
   "cell_type": "code",
   "execution_count": 99,
   "metadata": {},
   "outputs": [
    {
     "name": "stdout",
     "output_type": "stream",
     "text": [
      "26028\n",
      "27733\n",
      "[27733, 45382, 26028]\n"
     ]
    },
    {
     "data": {
      "text/plain": [
       "'ACTTAGTTT'"
      ]
     },
     "execution_count": 99,
     "metadata": {},
     "output_type": "execute_result"
    }
   ],
   "source": [
    "test_list_3 = naive_with_rc('ACTAAGT', lambda_virus)\n",
    "print (min(test_list_3))\n",
    "print(test_list_3[0])\n",
    "print(test_list_3)\n",
    "lambda_virus[26028:26037]"
   ]
  },
  {
   "cell_type": "code",
   "execution_count": 101,
   "metadata": {},
   "outputs": [
    {
     "name": "stdout",
     "output_type": "stream",
     "text": [
      "450\n"
     ]
    }
   ],
   "source": [
    "list_4 = naive_with_rc('AGTCGA', lambda_virus)\n",
    "print(min(list_4))"
   ]
  },
  {
   "cell_type": "code",
   "execution_count": 110,
   "metadata": {},
   "outputs": [],
   "source": [
    "#allows up to 2 mismatches per occurrence\n",
    "def naive_2mm_count(p, t):\n",
    "    count = 0 # initialize count variable\n",
    "    for i in range(len(t)-len(p)+1):\n",
    "        if HammingDistance(p, t[i:i+len(p)]) <= 2:\n",
    "            count += 1\n",
    "    return count\n",
    "#same thing as the pattern matching before, but it is replaced by count\n",
    "\n",
    "def HammingDistance(p, q):\n",
    "    count = 0\n",
    "    for i in range(len(p)):\n",
    "        if p[i] != q[i]:\n",
    "            count += 1\n",
    "    return count"
   ]
  },
  {
   "cell_type": "code",
   "execution_count": 111,
   "metadata": {},
   "outputs": [
    {
     "name": "stdout",
     "output_type": "stream",
     "text": [
      "2\n"
     ]
    }
   ],
   "source": [
    "p = 'ACTTTA'\n",
    "t = 'ACTTACTTGATAAAGT'\n",
    "print(naive_2mm_count(p,t))"
   ]
  },
  {
   "cell_type": "code",
   "execution_count": 113,
   "metadata": {},
   "outputs": [
    {
     "data": {
      "text/plain": [
       "191"
      ]
     },
     "execution_count": 113,
     "metadata": {},
     "output_type": "execute_result"
    }
   ],
   "source": [
    "naive_2mm_count('TTCAAGCC', lambda_virus)"
   ]
  },
  {
   "cell_type": "code",
   "execution_count": 122,
   "metadata": {},
   "outputs": [],
   "source": [
    "def naive_2mm(p, t):\n",
    "    occurrences = []\n",
    "    for i in range(len(t) - len(p) + 1):  # loop over alignments\n",
    "        \n",
    "        if HammingDistance(p, t[i:i+len(p)]) <= 2:  # compare characters\n",
    "            occurrences.append(i)\n",
    "            \n",
    "        \n",
    "              \n",
    "    return occurrences"
   ]
  },
  {
   "cell_type": "code",
   "execution_count": 203,
   "metadata": {},
   "outputs": [
    {
     "data": {
      "text/plain": [
       "191"
      ]
     },
     "execution_count": 203,
     "metadata": {},
     "output_type": "execute_result"
    }
   ],
   "source": [
    "len(naive_2mm('TTCAAGCC', lambda_virus))"
   ]
  },
  {
   "cell_type": "code",
   "execution_count": 127,
   "metadata": {},
   "outputs": [
    {
     "name": "stdout",
     "output_type": "stream",
     "text": [
      "49\n"
     ]
    }
   ],
   "source": [
    "list_6 = naive_2mm('AGGAGGTT', lambda_virus)\n",
    "print(min(list_6))"
   ]
  },
  {
   "cell_type": "code",
   "execution_count": 130,
   "metadata": {},
   "outputs": [
    {
     "data": {
      "text/plain": [
       "'AGGCGTTTCCG'"
      ]
     },
     "execution_count": 130,
     "metadata": {},
     "output_type": "execute_result"
    }
   ],
   "source": [
    "lambda_virus[49:60]"
   ]
  },
  {
   "cell_type": "code",
   "execution_count": 132,
   "metadata": {},
   "outputs": [],
   "source": [
    "def readFastq(filename):\n",
    "    sequences = []\n",
    "    qualities = []\n",
    "    with open(filename) as fh:\n",
    "        while True:\n",
    "            fh.readline()  # skip name line\n",
    "            seq = fh.readline().rstrip()  # read base sequence\n",
    "            fh.readline()  # skip placeholder line\n",
    "            qual = fh.readline().rstrip() # base quality line\n",
    "            if len(seq) == 0:\n",
    "                break\n",
    "            sequences.append(seq)\n",
    "            qualities.append(qual)\n",
    "    return sequences, qualities"
   ]
  },
  {
   "cell_type": "code",
   "execution_count": 134,
   "metadata": {},
   "outputs": [],
   "source": [
    "Human_reads_quiz, _ = readFastq('C:/Users/myPC/Desktop/ERR037900_1.first1000.fastq')"
   ]
  },
  {
   "cell_type": "code",
   "execution_count": 135,
   "metadata": {},
   "outputs": [
    {
     "data": {
      "text/plain": [
       "1000"
      ]
     },
     "execution_count": 135,
     "metadata": {},
     "output_type": "execute_result"
    }
   ],
   "source": [
    "len(Human_reads_quiz)"
   ]
  },
  {
   "cell_type": "code",
   "execution_count": 140,
   "metadata": {},
   "outputs": [
    {
     "name": "stdout",
     "output_type": "stream",
     "text": [
      "[100, 100, 100, 100, 100, 100, 100, 100, 100, 100, 100, 100, 100, 100, 100, 100, 100, 100, 100, 100, 100, 100, 100, 100, 100, 100, 100, 100, 100, 100, 100, 100, 100, 100, 100, 100, 100, 100, 100, 100, 100, 100, 100, 100, 100, 100, 100, 100, 100, 100, 100, 100, 100, 100, 100, 100, 100, 100, 100, 100, 100, 100, 100, 100, 100, 100, 100, 100, 100, 100, 100, 100, 100, 100, 100, 100, 100, 100, 100, 100, 100, 100, 100, 100, 100, 100, 100, 100, 100, 100, 100, 100, 100, 100, 100, 100, 100, 100, 100, 100]\n"
     ]
    }
   ],
   "source": [
    "length_reads = []\n",
    "for read in Human_reads_quiz:\n",
    "    length_reads.append(len(read))\n",
    "    \n",
    "print (length_reads[100:200])"
   ]
  },
  {
   "cell_type": "code",
   "execution_count": 137,
   "metadata": {},
   "outputs": [
    {
     "data": {
      "image/png": "[encoded data removed]",
      "text/plain": [
       "<Figure size 432x288 with 1 Axes>"
      ]
     },
     "metadata": {
      "needs_background": "light"
     },
     "output_type": "display_data"
    }
   ],
   "source": [
    "#def SeqCycle_poor(humanreads):\n",
    "    #This function determines which sequencing cycle is poor quality, has error. Sequencing cycle corresponds to same position/offset across all reads in file\n",
    "    \n",
    "    #for r in humanreads:\n",
    "\n",
    "        \n",
    "def findGCByPos(reads):\n",
    "    ''' Find the GC ratio at each position in the read '''\n",
    "    # Keep track of the number of G/C bases and the total number of bases at each position\n",
    "    gc = [0] * 100     #length of each read is 100\n",
    "    totals = [0] * 100\n",
    "    for read in reads:\n",
    "        for i in range(len(read)):\n",
    "            if read[i] == 'C' or read[i] == 'G':\n",
    "                gc[i] += 1\n",
    "            totals[i] += 1\n",
    "    # Divide G/C counts by total counts to get the average at each position\n",
    "    for i in range(len(gc)):\n",
    "        if totals[i] > 0:\n",
    "            gc[i] /= float(totals[i])\n",
    "    return gc\n",
    "\n",
    "gc = findGCByPos(Human_reads_quiz)\n",
    "import matplotlib.pyplot as plt\n",
    "plt.plot(range(len(gc)), gc)\n",
    "plt.show()\n",
    "\n",
    "        "
   ]
  },
  {
   "cell_type": "code",
   "execution_count": 143,
   "metadata": {},
   "outputs": [
    {
     "data": {
      "text/plain": [
       "0.055"
      ]
     },
     "execution_count": 143,
     "metadata": {},
     "output_type": "execute_result"
    }
   ],
   "source": [
    "min(gc)"
   ]
  },
  {
   "cell_type": "code",
   "execution_count": 146,
   "metadata": {},
   "outputs": [
    {
     "name": "stdout",
     "output_type": "stream",
     "text": [
      "The Positions of minimum element : [66]\n"
     ]
    }
   ],
   "source": [
    "# Minimum element indices in list \n",
    "# Using list comprehension + min() + enumerate() \n",
    "temp = min(gc) \n",
    "min_indices = [i for i, j in enumerate(gc) if j == temp] \n",
    "  \n",
    "# Printing result \n",
    "print(\"The Positions of minimum element : \" + str(min_indices)) "
   ]
  },
  {
   "cell_type": "code",
   "execution_count": 161,
   "metadata": {},
   "outputs": [],
   "source": [
    "import bm_preproc"
   ]
  },
  {
   "cell_type": "code",
   "execution_count": 164,
   "metadata": {},
   "outputs": [],
   "source": [
    "Humanchromo1 = readGenome('chr1.GRCh38.excerpt.fasta')"
   ]
  },
  {
   "cell_type": "code",
   "execution_count": null,
   "metadata": {},
   "outputs": [],
   "source": [
    "#below functions for homework week 2"
   ]
  },
  {
   "cell_type": "code",
   "execution_count": 167,
   "metadata": {},
   "outputs": [],
   "source": [
    "def naive_with_counts(p, t):\n",
    "    occurrences = []\n",
    "    char_comp = 0      #number of character comparisons performed\n",
    "    aligns_tried = 0   #number of alignments tried\n",
    "    for i in range(len(t) - len(p) + 1):  # loop over alignments\n",
    "        aligns_tried += 1\n",
    "        match = True\n",
    "        for j in range(len(p)):  # loop over characters\n",
    "            char_comp +=1\n",
    "            if t[i+j] != p[j]:  # compare characters\n",
    "                match = False\n",
    "                break\n",
    "        if match:\n",
    "            occurrences.append(i)  # all chars matched; record\n",
    "    \n",
    "    return occurrences, aligns_tried, char_comp"
   ]
  },
  {
   "cell_type": "code",
   "execution_count": 168,
   "metadata": {},
   "outputs": [
    {
     "name": "stdout",
     "output_type": "stream",
     "text": [
      "[40] 41 46\n"
     ]
    }
   ],
   "source": [
    "p = 'word'\n",
    "t = 'there would have been a time for such a word'\n",
    "occurrences, num_alignments, num_character_comparisons = naive_with_counts(p, t)\n",
    "print(occurrences, num_alignments, num_character_comparisons)"
   ]
  },
  {
   "cell_type": "code",
   "execution_count": 172,
   "metadata": {},
   "outputs": [
    {
     "name": "stdout",
     "output_type": "stream",
     "text": [
      "[0, 19] 20 35\n"
     ]
    }
   ],
   "source": [
    "p = 'needle'\n",
    "t = 'needle need noodle needle'\n",
    "occurrences, num_alignments, num_character_comparisons = naive_with_counts(p, t)\n",
    "print(occurrences, num_alignments, num_character_comparisons)"
   ]
  },
  {
   "cell_type": "code",
   "execution_count": 174,
   "metadata": {},
   "outputs": [],
   "source": [
    "def boyer_moore_with_counts(p, p_bm, t):\n",
    "    \"\"\" Do Boyer-Moore matching. p=pattern, t=text,\n",
    "        p_bm=BoyerMoore object for p \"\"\"\n",
    "    i = 0\n",
    "    occurrences = []\n",
    "    char_comp = 0      #number of character comparisons performed\n",
    "    aligns_tried = 0   #number of alignments tried\n",
    "    while i < len(t) - len(p) + 1:\n",
    "        aligns_tried += 1\n",
    "        shift = 1\n",
    "        mismatched = False\n",
    "        for j in range(len(p)-1, -1, -1):\n",
    "            char_comp += 1\n",
    "            if p[j] != t[i+j]:\n",
    "                skip_bc = p_bm.bad_character_rule(j, t[i+j])\n",
    "                skip_gs = p_bm.good_suffix_rule(j)\n",
    "                shift = max(shift, skip_bc, skip_gs)\n",
    "                mismatched = True\n",
    "                break\n",
    "        if not mismatched:\n",
    "            occurrences.append(i)\n",
    "            skip_gs = p_bm.match_skip()\n",
    "            shift = max(shift, skip_gs)\n",
    "        i += shift\n",
    "    return occurrences, aligns_tried, char_comp"
   ]
  },
  {
   "cell_type": "code",
   "execution_count": 188,
   "metadata": {},
   "outputs": [
    {
     "name": "stdout",
     "output_type": "stream",
     "text": [
      "[40] 12 15\n"
     ]
    }
   ],
   "source": [
    "from bm_preproc import BoyerMoore\n",
    "p = 'word'\n",
    "t = 'there would have been a time for such a word'\n",
    "lowercase_alphabet = 'abcdefghijklmnopqrstuvwxyz '\n",
    "p_bm = BoyerMoore(p, lowercase_alphabet)\n",
    "occurrences, num_alignments, num_character_comparisons = boyer_moore_with_counts(p, p_bm, t)\n",
    "print(occurrences, num_alignments, num_character_comparisons)"
   ]
  },
  {
   "cell_type": "code",
   "execution_count": 187,
   "metadata": {},
   "outputs": [
    {
     "name": "stdout",
     "output_type": "stream",
     "text": [
      "[0, 19] 5 18\n"
     ]
    }
   ],
   "source": [
    "p = 'needle'\n",
    "t = 'needle need noodle needle'\n",
    "p_bm = BoyerMoore(p, lowercase_alphabet)\n",
    "occurrences, num_alignments, num_character_comparisons = boyer_moore_with_counts(p, p_bm, t)\n",
    "print(occurrences, num_alignments, num_character_comparisons)"
   ]
  },
  {
   "cell_type": "code",
   "execution_count": 180,
   "metadata": {},
   "outputs": [
    {
     "name": "stdout",
     "output_type": "stream",
     "text": [
      "[56922] 799954 984143\n"
     ]
    }
   ],
   "source": [
    "p1 = 'GGCGCGGTGGCTCACGCCTGTAATCCCAGCACTTTGGGAGGCCGAGG'\n",
    "t = Humanchromo1\n",
    "occurrences, num_alignments, num_character_comparisons = naive_with_counts(p1, t)\n",
    "print(occurrences, num_alignments, num_character_comparisons)"
   ]
  },
  {
   "cell_type": "code",
   "execution_count": 179,
   "metadata": {},
   "outputs": [
    {
     "data": {
      "text/plain": [
       "1"
      ]
     },
     "execution_count": 179,
     "metadata": {},
     "output_type": "execute_result"
    }
   ],
   "source": [
    "len(occurrences)"
   ]
  },
  {
   "cell_type": "code",
   "execution_count": 192,
   "metadata": {},
   "outputs": [
    {
     "name": "stdout",
     "output_type": "stream",
     "text": [
      "[56922] 127974 165191\n"
     ]
    }
   ],
   "source": [
    "p = 'GGCGCGGTGGCTCACGCCTGTAATCCCAGCACTTTGGGAGGCCGAGG'\n",
    "p_bm = BoyerMoore(p, lowercase_alphabet.upper())\n",
    "occurrences, num_alignments, num_character_comparisons = boyer_moore_with_counts(p, p_bm, t)\n",
    "print(occurrences, num_alignments, num_character_comparisons)"
   ]
  },
  {
   "cell_type": "code",
   "execution_count": 195,
   "metadata": {},
   "outputs": [],
   "source": [
    "import kmer_index"
   ]
  },
  {
   "cell_type": "code",
   "execution_count": 224,
   "metadata": {},
   "outputs": [],
   "source": [
    "#function for week 2 programming homework quiz question 4 and 5\n",
    "def Index_approxmatch_pigeonhole(P, T, n):\n",
    "    index = kmer_index.Index(T, 8)\n",
    "    all_matches = set()\n",
    "    segment_len = int(round(len(P)/(n+1)))\n",
    "    #index_hits_total = []\n",
    "    for i in range(n+1):\n",
    "        start = i*segment_len\n",
    "        end = min((i+1)*segment_len, len(P))\n",
    "        \n",
    "        matches = index.query(P[start:end])\n",
    "        print(len(matches))                   #index hit for each i, add them, would be total index hit as asked in question 5\n",
    "        for m in matches:\n",
    "            if m < start or m-start+len(P) > len(T):\n",
    "                continue\n",
    "                \n",
    "            mismatches = 0\n",
    "            for j in range(0, start):\n",
    "                if not P[j] == T[m-start+j]:\n",
    "                    mismatches+=1\n",
    "                    if mismatches >n:\n",
    "                        break\n",
    "            for j in range(end, len(P)):\n",
    "                if not P[j] == T[m-start+j]:\n",
    "                    mismatches+=1\n",
    "                    if mismatches >n:\n",
    "                        break \n",
    "            if mismatches <= n:\n",
    "                all_matches.add(m-start)\n",
    "                \n",
    "    return len(all_matches)    "
   ]
  },
  {
   "cell_type": "code",
   "execution_count": 225,
   "metadata": {},
   "outputs": [
    {
     "name": "stdout",
     "output_type": "stream",
     "text": [
      "13\n",
      "17\n",
      "60\n"
     ]
    },
    {
     "data": {
      "text/plain": [
       "19"
      ]
     },
     "execution_count": 225,
     "metadata": {},
     "output_type": "execute_result"
    }
   ],
   "source": [
    "P = 'GGCGCGGTGGCTCACGCCTGTAAT'\n",
    "T = Humanchromo1\n",
    "Index_approxmatch_pigeonhole(P, T, 2)\n"
   ]
  },
  {
   "cell_type": "code",
   "execution_count": 231,
   "metadata": {},
   "outputs": [],
   "source": [
    "def boyer_moore(p, p_bm, t):\n",
    "    \"\"\" Do Boyer-Moore matching \"\"\"\n",
    "    i = 0\n",
    "    occurrences = []\n",
    "    while i < len(t) - len(p) + 1:\n",
    "        shift = 1\n",
    "        mismatched = False\n",
    "        for j in range(len(p)-1, -1, -1):\n",
    "            if p[j] != t[i+j]:\n",
    "                skip_bc = p_bm.bad_character_rule(j, t[i+j])\n",
    "                skip_gs = p_bm.good_suffix_rule(j)\n",
    "                shift = max(shift, skip_bc, skip_gs)\n",
    "                mismatched = True\n",
    "                break\n",
    "        if not mismatched:\n",
    "            occurrences.append(i)\n",
    "            skip_gs = p_bm.match_skip()\n",
    "            shift = max(shift, skip_gs)\n",
    "        i += shift\n",
    "    return occurrences\n",
    "\n",
    "p_bm = BoyerMoore(P, alphabet = \"ACGT\")"
   ]
  },
  {
   "cell_type": "code",
   "execution_count": 233,
   "metadata": {},
   "outputs": [
    {
     "data": {
      "text/plain": [
       "5"
      ]
     },
     "execution_count": 233,
     "metadata": {},
     "output_type": "execute_result"
    }
   ],
   "source": [
    "len(boyer_moore(P, p_bm, T))"
   ]
  },
  {
   "cell_type": "code",
   "execution_count": 499,
   "metadata": {},
   "outputs": [],
   "source": [
    "def approximate_match(p, t, n):                         #apporx match boyer Moore with pigeonhole\n",
    "    segment_length = int(round(len(p) / (n+1)))\n",
    "    all_matches = set()\n",
    "    for i in range(n+1):\n",
    "        start = i*segment_length\n",
    "        end = min((i+1)*segment_length, len(p))\n",
    "        p_bm = BoyerMoore(p[start:end], alphabet='ACGT')\n",
    "        matches = boyer_moore(p[start:end], p_bm, t)\n",
    "        # Extend matching segments to see if whole p matches\n",
    "        print(len(matches))\n",
    "        for m in matches:\n",
    "            if m < start or m-start+len(p) > len(t):\n",
    "                continue\n",
    "            mismatches = 0\n",
    "            for j in range(0, start):\n",
    "                if not p[j] == t[m-start+j]:\n",
    "                    mismatches += 1\n",
    "                    if mismatches > n:\n",
    "                        break\n",
    "            for j in range(end, len(p)):\n",
    "                if not p[j] == t[m-start+j]:\n",
    "                    mismatches += 1\n",
    "                    if mismatches > n:\n",
    "                        break\n",
    "            if mismatches <= n:\n",
    "                all_matches.add(m - start)\n",
    "    return len(all_matches)"
   ]
  },
  {
   "cell_type": "code",
   "execution_count": 500,
   "metadata": {},
   "outputs": [
    {
     "name": "stdout",
     "output_type": "stream",
     "text": [
      "13\n",
      "17\n",
      "60\n"
     ]
    },
    {
     "data": {
      "text/plain": [
       "19"
      ]
     },
     "execution_count": 500,
     "metadata": {},
     "output_type": "execute_result"
    }
   ],
   "source": [
    "approximate_match(P, T, 2) "
   ]
  },
  {
   "cell_type": "code",
   "execution_count": 693,
   "metadata": {},
   "outputs": [],
   "source": [
    "import bisect\n",
    "   \n",
    "class SubseqIndex(object):\n",
    "    \"\"\" Holds a subsequence index for a text T \"\"\"\n",
    "    \n",
    "    def __init__(self, t, k, ival):\n",
    "        \"\"\" Create index from all subsequences consisting of k characters\n",
    "            spaced ival positions apart.  E.g., SubseqIndex(\"ATAT\", 2, 2)\n",
    "            extracts (\"AA\", 0) and (\"TT\", 1). \"\"\"\n",
    "        self.k = k  # num characters per subsequence extracted\n",
    "        self.ival = ival  # space between them; 1=adjacent, 2=every other, etc\n",
    "        self.index = []\n",
    "        self.span = 1 + ival * (k - 1)\n",
    "        for i in range(len(t) - self.span + 1):  # for each subseq\n",
    "            self.index.append((t[i:i+self.span:ival], i))  # add (subseq, offset)\n",
    "        self.index.sort()  # alphabetize by subseq\n",
    "    \n",
    "    def query(self, p):\n",
    "        \"\"\" Return index hits for first subseq of p \"\"\"\n",
    "        subseq = p[:self.span:self.ival]  # query with first subseq\n",
    "        i = bisect.bisect_left(self.index, (subseq, -1))  # binary search\n",
    "        hits = []\n",
    "        \n",
    "        while i < len(self.index):  # collect matching index entries\n",
    "            \n",
    "            if self.index[i][0] != subseq:\n",
    "                break\n",
    "            hits.append(self.index[i][1])\n",
    "            i += 1\n",
    "        return hits"
   ]
  },
  {
   "cell_type": "code",
   "execution_count": 655,
   "metadata": {},
   "outputs": [],
   "source": [
    "t2 = 'to-morrow and to-morrow and to-morrow creeps in this petty pace'\n",
    "p2 = 'to-morrow and to-morrow '\n",
    "subseq_ind2 = SubseqIndex(t2, 8, 3)\n",
    "#print(subseq_ind.index)\n",
    "#print(subseq_ind.query(p[2:]))\n"
   ]
  },
  {
   "cell_type": "code",
   "execution_count": 656,
   "metadata": {},
   "outputs": [],
   "source": [
    "offsets2, num_index_hits2 = querySeqIndex(p2, t2, subseq_ind2)"
   ]
  },
  {
   "cell_type": "code",
   "execution_count": 657,
   "metadata": {},
   "outputs": [
    {
     "name": "stdout",
     "output_type": "stream",
     "text": [
      "[0] 4\n"
     ]
    }
   ],
   "source": [
    "print(offsets2, num_index_hits2)"
   ]
  },
  {
   "cell_type": "code",
   "execution_count": 703,
   "metadata": {},
   "outputs": [],
   "source": [
    "t1 = open('1110.txt').read()\n",
    "p1 = 'English measure backward'\n",
    "subseq_ind1 = SubseqIndex(t1, 8, 3) \n",
    "offsets1, num_index_hits1 = querySeqIndex(p1, t1, subseq_ind1)"
   ]
  },
  {
   "cell_type": "code",
   "execution_count": 704,
   "metadata": {},
   "outputs": [
    {
     "ename": "NameError",
     "evalue": "name 'offset1' is not defined",
     "output_type": "error",
     "traceback": [
      "\u001b[1;31m---------------------------------------------------------------------------\u001b[0m",
      "\u001b[1;31mNameError\u001b[0m                                 Traceback (most recent call last)",
      "\u001b[1;32m<ipython-input-704-ac88626a5b71>\u001b[0m in \u001b[0;36m<module>\u001b[1;34m\u001b[0m\n\u001b[1;32m----> 1\u001b[1;33m \u001b[0mprint\u001b[0m\u001b[1;33m(\u001b[0m\u001b[0moffset1\u001b[0m\u001b[1;33m,\u001b[0m \u001b[0mnum_index_hits1\u001b[0m\u001b[1;33m)\u001b[0m\u001b[1;33m\u001b[0m\u001b[1;33m\u001b[0m\u001b[0m\n\u001b[0m",
      "\u001b[1;31mNameError\u001b[0m: name 'offset1' is not defined"
     ]
    }
   ],
   "source": [
    "print(offset1, num_index_hits1)"
   ]
  },
  {
   "cell_type": "code",
   "execution_count": 663,
   "metadata": {},
   "outputs": [],
   "source": [
    "P = 'GGCGCGGTGGCTCACGCCTGTAAT'\n",
    "T = Humanchromo1\n",
    "subseq_ind4 = SubseqIndex(T, 8, 3) \n",
    "offsets3, num_index_hits3 = querySeqIndex(P, T, subseq_ind4)"
   ]
  },
  {
   "cell_type": "code",
   "execution_count": 664,
   "metadata": {},
   "outputs": [
    {
     "name": "stdout",
     "output_type": "stream",
     "text": [
      "[] 4\n"
     ]
    }
   ],
   "source": [
    "print(offsets3, num_index_hits3)"
   ]
  },
  {
   "cell_type": "code",
   "execution_count": 726,
   "metadata": {},
   "outputs": [],
   "source": [
    "#function for week 2 programming homework quiz question 6, subsequence index (haven't done 2 mismatch thing here)\n",
    "\n",
    "def querySeqIndex(p, t, index):\n",
    "    k = index.k\n",
    "    ival = index.ival\n",
    "    count = []\n",
    "    offsets = []\n",
    "    i=0\n",
    "    #matches = index.query(p)\n",
    "    for x in range(ival):\n",
    "\n",
    "        for i in index.query(p[x:]):\n",
    "            count.append(i)\n",
    "            if p[k:] == t[x+i+k:x+i+len(p)]:  # verify that rest of P matches\n",
    "                offsets.append(i)\n",
    "    \n",
    "    return offsets, count  "
   ]
  },
  {
   "cell_type": "code",
   "execution_count": 727,
   "metadata": {},
   "outputs": [],
   "source": [
    "t2 = 'to-morrow and to-morrow and to-morrow creeps in this petty pace'\n",
    "p2 = 'to-morrow and to-morrow '\n",
    "subseq_ind2 = SubseqIndex(t2, 8, 3)"
   ]
  },
  {
   "cell_type": "code",
   "execution_count": 728,
   "metadata": {},
   "outputs": [],
   "source": [
    "offsets, num_index_hits2 = querySeqIndex(p2, t2, subseq_ind2)"
   ]
  },
  {
   "cell_type": "code",
   "execution_count": 729,
   "metadata": {},
   "outputs": [
    {
     "name": "stdout",
     "output_type": "stream",
     "text": [
      "[0, 14] 6\n"
     ]
    }
   ],
   "source": [
    "print(offsets, len(num_index_hits2))"
   ]
  },
  {
   "cell_type": "code",
   "execution_count": 730,
   "metadata": {},
   "outputs": [],
   "source": [
    "t1 = open('1110.txt').read()\n",
    "p1 = 'English measure backward'\n",
    "subseq_ind1 = SubseqIndex(t1, 8, 3) \n",
    "offsets, num_index_hits = querySeqIndex(p1, t1, subseq_ind1)"
   ]
  },
  {
   "cell_type": "code",
   "execution_count": 733,
   "metadata": {},
   "outputs": [
    {
     "name": "stdout",
     "output_type": "stream",
     "text": [
      "[132573] 3\n"
     ]
    }
   ],
   "source": [
    "print(offsets, len(num_index_hits))"
   ]
  },
  {
   "cell_type": "code",
   "execution_count": 734,
   "metadata": {},
   "outputs": [],
   "source": [
    "P = 'GGCGCGGTGGCTCACGCCTGTAAT'\n",
    "T = Humanchromo1\n",
    "subseq_ind = SubseqIndex(T, 8, 3) \n",
    "offsets, num_index_hits = querySeqIndex(P, T, subseq_ind)"
   ]
  },
  {
   "cell_type": "code",
   "execution_count": 736,
   "metadata": {},
   "outputs": [
    {
     "name": "stdout",
     "output_type": "stream",
     "text": [
      "[56922, 262042, 273669, 364263, 465647, 657496, 717706] 79\n"
     ]
    }
   ],
   "source": [
    "print(offsets,len(num_index_hits))"
   ]
  },
  {
   "cell_type": "code",
   "execution_count": 1016,
   "metadata": {},
   "outputs": [],
   "source": [
    "#Week 3 Programming homework q1&2, first row of matrix is set to 0 initially, so edited the editDistance function accordingly\n",
    "def editDistance_approxmatch(P, T):\n",
    "    # Create distance matrix\n",
    "    D = []\n",
    "    for i in range(len(P)+1):\n",
    "        D.append([0]*(len(T)+1))\n",
    "    # Initialize first row and column of matrix\n",
    "    for i in range(len(P)+1):\n",
    "        D[i][0] = i\n",
    "    for i in range(len(T)+1):\n",
    "        D[0][i] = 0\n",
    "    # Fill in the rest of the matrix\n",
    "    for i in range(1, len(P)+1):\n",
    "        for j in range(1, len(T)+1):\n",
    "            distHor = D[i][j-1] + 1\n",
    "            distVer = D[i-1][j] + 1\n",
    "            if P[i-1] == T[j-1]:\n",
    "                distDiag = D[i-1][j-1]\n",
    "            else:\n",
    "                distDiag = D[i-1][j-1] + 1\n",
    "            D[i][j] = min(distHor, distVer, distDiag)\n",
    "    # Edit distance for min element in the last row of matrix\n",
    "    min_lastrow = min(D[len(P)][j] for j in range(len(T)+1))\n",
    "    \n",
    "    return min_lastrow"
   ]
  },
  {
   "cell_type": "code",
   "execution_count": 753,
   "metadata": {},
   "outputs": [
    {
     "data": {
      "text/plain": [
       "2"
      ]
     },
     "execution_count": 753,
     "metadata": {},
     "output_type": "execute_result"
    }
   ],
   "source": [
    "P = 'GCGTATGC' \n",
    "T = 'TATTGGCTATACGGTT'\n",
    "editDistance_approxmatch(P,T)"
   ]
  },
  {
   "cell_type": "code",
   "execution_count": 754,
   "metadata": {},
   "outputs": [
    {
     "data": {
      "text/plain": [
       "2"
      ]
     },
     "execution_count": 754,
     "metadata": {},
     "output_type": "execute_result"
    }
   ],
   "source": [
    "x = 'shake spea'\n",
    "y = 'Shakespear'\n",
    "editDistance_approxmatch(x,y)"
   ]
  },
  {
   "cell_type": "code",
   "execution_count": 757,
   "metadata": {},
   "outputs": [
    {
     "data": {
      "text/plain": [
       "3"
      ]
     },
     "execution_count": 757,
     "metadata": {},
     "output_type": "execute_result"
    }
   ],
   "source": [
    "P = 'GCTGATCGATCGTACG'\n",
    "T= Humanchromo1\n",
    "editDistance_approxmatch(P,T)"
   ]
  },
  {
   "cell_type": "code",
   "execution_count": 1017,
   "metadata": {},
   "outputs": [
    {
     "data": {
      "text/plain": [
       "2"
      ]
     },
     "execution_count": 1017,
     "metadata": {},
     "output_type": "execute_result"
    }
   ],
   "source": [
    "P1 = 'GATTTACCAGATTGAG'\n",
    "T= Humanchromo1\n",
    "editDistance_approxmatch(P1,T)"
   ]
  },
  {
   "cell_type": "code",
   "execution_count": 947,
   "metadata": {},
   "outputs": [],
   "source": [
    "#Programmin homework week 3, Q3, this function is too slow for a long data with many reads, write a faster function\n",
    "#Say we are concerned only with overlaps that \n",
    "#(a) are exact matches (no differences allowed), and (b) are at least k bases long. To make an overlap graph, we could call overlap(a, b, min_length=k) this function on every possible pair of reads from the dataset.  Unfortunately, that will be very slow!\n",
    "def overlap(a, b, min_length):\n",
    "    \"\"\" Return length of longest suffix of 'a' matching\n",
    "        a prefix of 'b' that is at least 'min_length'\n",
    "        characters long.  If no such overlap exists,\n",
    "        return 0. \"\"\"\n",
    "    start = 0  # start all the way at the left\n",
    "    while True:\n",
    "        start = a.find(b[:min_length], start)  # look for b's prefix in a\n",
    "        if start == -1:  # no more occurrences to right\n",
    "            return 0\n",
    "        # found occurrence; check for full suffix/prefix match\n",
    "        if b.startswith(a[start:]):\n",
    "            return len(a)-start\n",
    "        start += 1  # move just past previous match"
   ]
  },
  {
   "cell_type": "code",
   "execution_count": 765,
   "metadata": {},
   "outputs": [],
   "source": [
    "PhiX_FASTQ, _ = readFastq('ERR266411_1.for_asm.fastq')"
   ]
  },
  {
   "cell_type": "code",
   "execution_count": 766,
   "metadata": {},
   "outputs": [
    {
     "name": "stdout",
     "output_type": "stream",
     "text": [
      "100\n"
     ]
    }
   ],
   "source": [
    "print(len(PhiX_FASTQ[0]))"
   ]
  },
  {
   "cell_type": "code",
   "execution_count": 1066,
   "metadata": {},
   "outputs": [],
   "source": [
    "#got it to about 8 seconds (check faster code givrn below this one, uses a another dictionary)\n",
    "def overlap_modified(reads, min_length):\n",
    "    \n",
    "    kmer_reads = {}\n",
    "    \n",
    "    r_suffix = set()\n",
    "    final_reads = set()\n",
    "    \n",
    "    for r in reads:\n",
    "        index = kmer_index.Index(r, min_length)\n",
    "        for i in range(len(index.index)):\n",
    "            if index.index[i][0] not in kmer_reads:\n",
    "                kmer_reads[index.index[i][0]] = set([r])\n",
    "            else:\n",
    "                kmer_reads[index.index[i][0]].update([r])\n",
    "    \n",
    "    #return kmer_reads.keys()\n",
    "    #(2) Now, for each read a, we find all overlaps involving a suffix of a.\n",
    "    #we take a's length-k (min_length) suffix, find all reads containing that k-mer\n",
    "    \n",
    "    for r in reads:\n",
    "                \n",
    "        read_list = list(kmer_reads.get(r[len(r)-min_length : len(r)]))\n",
    "              \n",
    "        if len(read_list) > 1:\n",
    "        \n",
    "            for i in range(len(read_list)):\n",
    "                if read_list[i] != r:                                        \n",
    "                    overlap_result = overlap(r, read_list[i], min_length)\n",
    "                                                \n",
    "                    if overlap_result > 0:\n",
    "                        #(r, read_list[i])   #tuple with pair of reads\n",
    "                                #print(reads_pair)\n",
    "                        final_reads.update([(r, read_list[i])])\n",
    "                        r_suffix.update([r])         \n",
    "           \n",
    "    return final_reads, r_suffix\n",
    "    "
   ]
  },
  {
   "cell_type": "code",
   "execution_count": 1069,
   "metadata": {},
   "outputs": [
    {
     "name": "stdout",
     "output_type": "stream",
     "text": [
      "12 5\n"
     ]
    }
   ],
   "source": [
    "reads = ['CGTACG', 'TACGTA', 'GTACGT', 'ACGTAC', 'GTACGA', 'TACGAT']\n",
    "f, r = overlap_modified(reads, 4)\n",
    "print(len(f), len(r))"
   ]
  },
  {
   "cell_type": "code",
   "execution_count": 1071,
   "metadata": {},
   "outputs": [
    {
     "name": "stdout",
     "output_type": "stream",
     "text": [
      "904746 7161\n",
      "Wall time: 8.55 s\n"
     ]
    }
   ],
   "source": [
    "%%time\n",
    "f, r = overlap_modified(PhiX_FASTQ, 30)\n",
    "print(len(f), len(r))"
   ]
  },
  {
   "cell_type": "code",
   "execution_count": 1073,
   "metadata": {},
   "outputs": [],
   "source": [
    "#copied incomplete code from forum, modified it to give answers required, a bit faster\n",
    "from collections import *\n",
    "def Correct_overlap_all_pairs(reads, min_length):\n",
    "    \n",
    "    #kmer_dict = createKmersFromReadS(reads, min_length) #create dict with kmer key/and set of reads with that kmer value. User has to create this function\n",
    "    kmer_dict = {}\n",
    "    #r_suffix = list()\n",
    "    #final_reads = set()\n",
    "    #read_suffix = set()    \n",
    "    for r in reads:\n",
    "        index = kmer_index.Index(r, min_length)\n",
    "        for i in range(len(index.index)):\n",
    "            if index.index[i][0] not in kmer_dict:\n",
    "                kmer_dict[index.index[i][0]] = set([r])\n",
    "            else:\n",
    "                kmer_dict[index.index[i][0]].update([r])\n",
    "    \n",
    "    overlap_graph = defaultdict(set) #read is key, set of overlapping reads are value\n",
    "    val_list_total = []\n",
    "    \n",
    "    for read in reads:\n",
    "        #create suffix for this read\n",
    "        read_suffix = read[-min_length: ]\n",
    "        \n",
    "        \n",
    "        #extract set of all reads containing this kmer/suffix\n",
    "        read_set = kmer_dict[read_suffix].copy()\n",
    "        \n",
    "        assert(len(read_set) > 0) # check that the set isnt empty\n",
    "        \n",
    "        read_set.remove(read) #remove the read so we dont compare it with itself\n",
    "        \n",
    "\n",
    "        #THIS WORKS\n",
    "        for compar_read in read_set:\n",
    "            if overlap(read, compar_read, min_length) > 0:\n",
    "                overlap_graph[read].add(compar_read)\n",
    "         \n",
    "        val_list_total.append(len(overlap_graph[read]))\n",
    "    \n",
    "    total_edges = 0\n",
    "    for i in val_list_total:\n",
    "        total_edges += i\n",
    "    \n",
    "    total_nodes_withasuffix = 0\n",
    "    for i in val_list_total:\n",
    "        if i != 0:\n",
    "            total_nodes_withasuffix += 1\n",
    "        \n",
    "            \n",
    "        \n",
    "    \n",
    "    return total_edges, total_nodes_withasuffix       \n",
    "        "
   ]
  },
  {
   "cell_type": "code",
   "execution_count": 1058,
   "metadata": {},
   "outputs": [
    {
     "data": {
      "text/plain": [
       "(12, 5)"
      ]
     },
     "execution_count": 1058,
     "metadata": {},
     "output_type": "execute_result"
    }
   ],
   "source": [
    "reads = ['CGTACG', 'TACGTA', 'GTACGT', 'ACGTAC', 'GTACGA', 'TACGAT']\n",
    "Correct_overlap_all_pairs(reads, 4)"
   ]
  },
  {
   "cell_type": "code",
   "execution_count": 1074,
   "metadata": {},
   "outputs": [
    {
     "name": "stdout",
     "output_type": "stream",
     "text": [
      "Wall time: 6.83 s\n"
     ]
    },
    {
     "data": {
      "text/plain": [
       "(904746, 7161)"
      ]
     },
     "execution_count": 1074,
     "metadata": {},
     "output_type": "execute_result"
    }
   ],
   "source": [
    "%%time\n",
    "Correct_overlap_all_pairs(PhiX_FASTQ, 30)"
   ]
  },
  {
   "cell_type": "code",
   "execution_count": 1118,
   "metadata": {},
   "outputs": [],
   "source": [
    "#Week 4 programming homework\n",
    "def overlap(a, b, min_length=3):\n",
    "    \"\"\" Return length of longest suffix of 'a' matching\n",
    "        a prefix of 'b' that is at least 'min_length'\n",
    "        characters long.  If no such overlap exists,\n",
    "        return 0. \"\"\"\n",
    "    start = 0  # start all the way at the left\n",
    "    while True:\n",
    "        start = a.find(b[:min_length], start)  # look for b's suffx in a\n",
    "        if start == -1:  # no more occurrences to right\n",
    "            return 0\n",
    "        # found occurrence; check for full suffix/prefix match\n",
    "        if b.startswith(a[start:]):\n",
    "            return len(a)-start\n",
    "        start += 1  # move just past previous match\n",
    "\n",
    "import itertools\n",
    "\n",
    "def scs(ss):\n",
    "    \"\"\" Returns shortest common superstring of given\n",
    "        strings, which must be the same length \"\"\"\n",
    "    scs_set = set()\n",
    "    shortest_sup = None\n",
    "    for ssperm in itertools.permutations(ss):\n",
    "        sup = ssperm[0]  # superstring starts as first string\n",
    "        for i in range(len(ss)-1):\n",
    "            # overlap adjacent strings A and B in the permutation\n",
    "            olen = overlap(ssperm[i], ssperm[i+1], min_length=1)\n",
    "            # add non-overlapping portion of B to superstring\n",
    "            sup += ssperm[i+1][olen:]\n",
    "        if shortest_sup is None or len(sup) <= len(shortest_sup):\n",
    "            shortest_sup = sup  # found shorter superstring\n",
    "            scs_set.update([shortest_sup])    #set of shorties\n",
    "    \n",
    "    len_ssc = []   #list of lengths of scs in scs_set\n",
    "    for i in scs_set:\n",
    "        len_ssc.append(len(i))\n",
    "    \n",
    "    shortest_set = set()       #set of multiple scs with shortest length\n",
    "    len_min = min(len_ssc)\n",
    "    print(len_min)\n",
    "    for i in scs_set:\n",
    "        if len(i) == len_min:\n",
    "           shortest_set.update([i]) \n",
    "    \n",
    "    return shortest_set  # return shortest"
   ]
  },
  {
   "cell_type": "code",
   "execution_count": 1119,
   "metadata": {},
   "outputs": [
    {
     "name": "stdout",
     "output_type": "stream",
     "text": [
      "11\n",
      "{'CCTTGGATTGC', 'TGGATTGCCTT', 'TGCCTTGGATT', 'GATTGCCTTGG'}\n"
     ]
    }
   ],
   "source": [
    "ss = ['CCT', 'CTT', 'TGC', 'TGG', 'GAT', 'ATT']\n",
    "print(scs(ss))"
   ]
  },
  {
   "cell_type": "code",
   "execution_count": 1120,
   "metadata": {},
   "outputs": [
    {
     "name": "stdout",
     "output_type": "stream",
     "text": [
      "5\n"
     ]
    },
    {
     "data": {
      "text/plain": [
       "{'ABCAB', 'BCABC', 'CABCA'}"
      ]
     },
     "execution_count": 1120,
     "metadata": {},
     "output_type": "execute_result"
    }
   ],
   "source": [
    "strings = ['ABC', 'BCA', 'CAB']\n",
    "scs(strings)"
   ]
  },
  {
   "cell_type": "code",
   "execution_count": 1121,
   "metadata": {},
   "outputs": [
    {
     "name": "stdout",
     "output_type": "stream",
     "text": [
      "12\n"
     ]
    },
    {
     "data": {
      "text/plain": [
       "{'AATAGATCGTGC',\n",
       " 'AATAGATGCTCG',\n",
       " 'AATAGTCGATGC',\n",
       " 'AATCGATAGTGC',\n",
       " 'AATGCTCGATAG',\n",
       " 'TCGAATAGATGC',\n",
       " 'TCGATAGAATGC',\n",
       " 'TCGATGCAATAG',\n",
       " 'TGCAATAGATCG',\n",
       " 'TGCAATCGATAG'}"
      ]
     },
     "execution_count": 1121,
     "metadata": {},
     "output_type": "execute_result"
    }
   ],
   "source": [
    "strings = ['GAT', 'TAG', 'TCG', 'TGC', 'AAT', 'ATA']\n",
    "scs(strings)"
   ]
  },
  {
   "cell_type": "code",
   "execution_count": 1123,
   "metadata": {},
   "outputs": [],
   "source": [
    "mystery_virus, _ = readFastq('ads1_week4_reads.fq')"
   ]
  },
  {
   "cell_type": "code",
   "execution_count": 1148,
   "metadata": {},
   "outputs": [],
   "source": [
    "def pick_maximal_overlap(reads, k):\n",
    "    \"\"\" Return a pair of reads from the list with a\n",
    "        maximal suffix/prefix overlap >= k.  Returns\n",
    "        overlap length 0 if there are no such overlaps.\"\"\"\n",
    "    reada, readb = None, None\n",
    "    best_olen = 0\n",
    "    for a, b in itertools.permutations(reads, 2):\n",
    "        olen = overlap(a, b, min_length=k)\n",
    "        if olen > best_olen:\n",
    "            reada, readb = a, b\n",
    "            best_olen = olen\n",
    "    return reada, readb, best_olen"
   ]
  },
  {
   "cell_type": "code",
   "execution_count": 1188,
   "metadata": {},
   "outputs": [],
   "source": [
    "def max_overlap_all_pairs(reads, min_length):\n",
    "    #kmer_dict = createKmersFromReadS(reads, min_length) #create dict with kmer key/and set of reads with that kmer value. User has to create this function\n",
    "    kmer_dict = {}\n",
    "    for r in reads:\n",
    "        index = kmer_index.Index(r, min_length)\n",
    "        for i in range(len(index.index)):\n",
    "            if index.index[i][0] not in kmer_dict:\n",
    "                kmer_dict[index.index[i][0]] = set([r])\n",
    "            else:\n",
    "                kmer_dict[index.index[i][0]].update([r])\n",
    "    \n",
    "    #max_overlap_graph = defaultdict(set) #read is key, tupple(set max overlapping read, length of max ovelap) is value\n",
    "    #val_list_tupple = []\n",
    "    olen = 0\n",
    "    best_olen = 0\n",
    "    read_a, read_b = None, None\n",
    "    for read in reads:\n",
    "        #create suffix for this read\n",
    "        read_suffix = read[-min_length: ]\n",
    "        #extract set of all reads containing this kmer/suffix\n",
    "        read_set = kmer_dict[read_suffix].copy()\n",
    "        assert(len(read_set) > 0) # check that the set isnt empty\n",
    "        read_set.remove(read) #remove the read so we dont compare it with itself\n",
    "        \n",
    "        #THIS WORKS\n",
    "        for compar_read in read_set:\n",
    "            olen = overlap(read, compar_read, min_length)\n",
    "            if olen > best_olen:\n",
    "                read_a, read_b = read, compar_read\n",
    "                best_olen = olen\n",
    "    \n",
    "    return read_a, read_b, best_olen\n",
    "         \n",
    "    \"\"\"\"           \n",
    "                #max_overlap_graph[read].add(compar_read)\n",
    "                #best_olen = olen\n",
    "        #val_list_tupple.append(overlap_graph[read])\n",
    "\n",
    "    total_edges = 0\n",
    "    for i in val_list_total:\n",
    "        total_edges += i\n",
    "    \n",
    "    total_nodes_withasuffix = 0\n",
    "    for i in val_list_total:\n",
    "        if i != 0:\n",
    "            total_nodes_withasuffix += 1\n",
    "   \n",
    "    return max_overlap_graph, best_olen \n",
    "     \"\"\""
   ]
  },
  {
   "cell_type": "code",
   "execution_count": 1193,
   "metadata": {},
   "outputs": [
    {
     "data": {
      "text/plain": [
       "('CGTACG', 'GTACGA', 5)"
      ]
     },
     "execution_count": 1193,
     "metadata": {},
     "output_type": "execute_result"
    }
   ],
   "source": [
    "reads = ['CGTACG', 'TACGTA', 'GTACGT', 'ACGTAC', 'GTACGA', 'TACGAT']\n",
    "max_overlap_all_pairs(reads, 4)"
   ]
  },
  {
   "cell_type": "code",
   "execution_count": 1195,
   "metadata": {},
   "outputs": [],
   "source": [
    "#week 4 question 3, assemble given reads using greedy shortest common superstring\n",
    "\n",
    "def greedy_scs(reads, k):\n",
    "    \"\"\" Greedy shortest-common-superstring merge.\n",
    "        Repeat until no edges (overlaps of length >= k, min_length)\n",
    "        remain. \"\"\"\n",
    "    read_a, read_b, olen = max_overlap_all_pairs(reads, k)\n",
    "    \n",
    "    while  olen> 0:\n",
    "        reads.remove(read_a)\n",
    "        reads.remove(read_b)\n",
    "        reads.append(read_a + read_b[olen:])\n",
    "        read_a, read_b, olen = max_overlap_all_pairs(reads, k)\n",
    "    return ''.join(reads)"
   ]
  },
  {
   "cell_type": "code",
   "execution_count": 1197,
   "metadata": {},
   "outputs": [
    {
     "data": {
      "text/plain": [
       "'CABCA'"
      ]
     },
     "execution_count": 1197,
     "metadata": {},
     "output_type": "execute_result"
    }
   ],
   "source": [
    "greedy_scs(['ABC', 'BCA', 'CAB'], 2)"
   ]
  },
  {
   "cell_type": "code",
   "execution_count": 1199,
   "metadata": {},
   "outputs": [
    {
     "data": {
      "text/plain": [
       "'CDBCABCDA'"
      ]
     },
     "execution_count": 1199,
     "metadata": {},
     "output_type": "execute_result"
    }
   ],
   "source": [
    "greedy_scs(['ABCD', 'CDBC', 'BCDA'], 1)"
   ]
  },
  {
   "cell_type": "code",
   "execution_count": 1200,
   "metadata": {},
   "outputs": [
    {
     "name": "stdout",
     "output_type": "stream",
     "text": [
      "8\n"
     ]
    },
    {
     "data": {
      "text/plain": [
       "{'ABCDBCDA'}"
      ]
     },
     "execution_count": 1200,
     "metadata": {},
     "output_type": "execute_result"
    }
   ],
   "source": [
    "scs(['ABCD', 'CDBC', 'BCDA'])"
   ]
  },
  {
   "cell_type": "code",
   "execution_count": 1225,
   "metadata": {},
   "outputs": [
    {
     "name": "stdout",
     "output_type": "stream",
     "text": [
      "Wall time: 53 ms\n"
     ]
    }
   ],
   "source": [
    "%%time\n",
    "assembly = greedy_scs(mystery_virus, 30)"
   ]
  },
  {
   "cell_type": "code",
   "execution_count": 1226,
   "metadata": {},
   "outputs": [
    {
     "data": {
      "text/plain": [
       "15894"
      ]
     },
     "execution_count": 1226,
     "metadata": {},
     "output_type": "execute_result"
    }
   ],
   "source": [
    "len(assembly)"
   ]
  },
  {
   "cell_type": "code",
   "execution_count": 1227,
   "metadata": {},
   "outputs": [
    {
     "data": {
      "text/plain": [
       "'ACCAAACAAA'"
      ]
     },
     "execution_count": 1227,
     "metadata": {},
     "output_type": "execute_result"
    }
   ],
   "source": [
    "assembly[0:10]"
   ]
  },
  {
   "cell_type": "code",
   "execution_count": 1228,
   "metadata": {},
   "outputs": [
    {
     "name": "stdout",
     "output_type": "stream",
     "text": [
      "4633 3723\n"
     ]
    }
   ],
   "source": [
    "count_a = 0\n",
    "count_t = 0\n",
    "for base in assembly:\n",
    "    if base == 'A':\n",
    "        count_a += 1\n",
    "    elif base == 'T':\n",
    "        count_t += 1\n",
    "\n",
    "print(count_a, count_t)        "
   ]
  },
  {
   "cell_type": "code",
   "execution_count": 1210,
   "metadata": {},
   "outputs": [],
   "source": [
    "with open('mystry_virus.txt', 'w') as f:            #creating a file mystry_virus and saving the string 'assembly' that we got from above code\n",
    "    f.writelines(assembly)"
   ]
  }
 ],
 "metadata": {
  "kernelspec": {
   "display_name": "Python 3",
   "language": "python",
   "name": "python3"
  },
  "language_info": {
   "codemirror_mode": {
    "name": "ipython",
    "version": 3
   },
   "file_extension": ".py",
   "mimetype": "text/x-python",
   "name": "python",
   "nbconvert_exporter": "python",
   "pygments_lexer": "ipython3",
   "version": "3.8.5"
  }
 },
 "nbformat": 4,
 "nbformat_minor": 4
}
